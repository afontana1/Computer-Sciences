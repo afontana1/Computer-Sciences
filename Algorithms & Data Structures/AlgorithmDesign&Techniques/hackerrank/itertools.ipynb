{
 "cells": [
  {
   "cell_type": "code",
   "execution_count": 254,
   "metadata": {},
   "outputs": [],
   "source": [
    "import collections\n",
    "import itertools\n",
    "\n",
    "import string\n",
    "import random\n",
    "\n",
    "from functools import reduce"
   ]
  },
  {
   "cell_type": "code",
   "execution_count": 124,
   "metadata": {},
   "outputs": [],
   "source": [
    "x = [random.choice(string.ascii_lowercase) for _ in range(50)]"
   ]
  },
  {
   "cell_type": "markdown",
   "metadata": {},
   "source": [
    "# Group By\n",
    "- only works with sorted iterables"
   ]
  },
  {
   "cell_type": "code",
   "execution_count": 220,
   "metadata": {},
   "outputs": [],
   "source": [
    "def sortDesc(lst):\n",
    "    '''descending'''\n",
    "    for i in range(len(lst)):\n",
    "        for j in range(i,len(lst)):\n",
    "            if lst[i] < lst[j]:\n",
    "                lst[i] , lst[j] = lst[j], lst[i]\n",
    "    return lst\n",
    "\n",
    "def sortAsc(lst):\n",
    "    '''ascending'''\n",
    "    for i in range(len(lst)):\n",
    "        for j in range(i,len(lst)):\n",
    "            if lst[j] < lst[i]:\n",
    "                lst[j],lst[i] = lst[i],lst[j]\n",
    "    return lst\n",
    "\n",
    "def reverseList(lst):\n",
    "    new = []\n",
    "    last = len(lst) - 1\n",
    "    while last >= 0:\n",
    "        new.append(lst[last])\n",
    "        last-=1\n",
    "    return new\n",
    "\n",
    "class groupBy:\n",
    "    def __init__(self,data):\n",
    "        try:\n",
    "            isiter = iter(data)\n",
    "        except TypeError as te:\n",
    "            print(isiter,'not iterable')\n",
    "        finally:\n",
    "            self.data = data\n",
    "            \n",
    "    def group(self):\n",
    "        '''works with lists'''\n",
    "        out = {}\n",
    "        i,j = 0,0\n",
    "        while i < len(self.data)-1:\n",
    "            tempStore = {}\n",
    "            tempStore[self.data[i]] = []\n",
    "            while self.data[i] == self.data[j]:\n",
    "                tempStore[self.data[i]].append(self.data[j])\n",
    "                j+=1\n",
    "            i=j\n",
    "            out.update(tempStore)\n",
    "            yield list(tempStore.keys())[0], tempStore[list(tempStore.keys())[0]]\n",
    "            \n",
    "        return None"
   ]
  },
  {
   "cell_type": "code",
   "execution_count": 221,
   "metadata": {},
   "outputs": [],
   "source": [
    "thing = sortAsc(x)"
   ]
  },
  {
   "cell_type": "code",
   "execution_count": 222,
   "metadata": {},
   "outputs": [],
   "source": [
    "yo = groupBy(thing)"
   ]
  },
  {
   "cell_type": "code",
   "execution_count": 223,
   "metadata": {},
   "outputs": [
    {
     "name": "stdout",
     "output_type": "stream",
     "text": [
      "('a', ['a'])\n",
      "('b', ['b', 'b', 'b'])\n",
      "('c', ['c', 'c'])\n",
      "('e', ['e'])\n",
      "('f', ['f', 'f', 'f'])\n",
      "('g', ['g', 'g'])\n",
      "('h', ['h', 'h', 'h'])\n",
      "('i', ['i'])\n",
      "('j', ['j', 'j', 'j'])\n",
      "('k', ['k', 'k', 'k'])\n",
      "('l', ['l'])\n",
      "('m', ['m', 'm', 'm'])\n",
      "('n', ['n', 'n', 'n'])\n",
      "('o', ['o', 'o', 'o'])\n",
      "('s', ['s', 's', 's'])\n",
      "('t', ['t', 't', 't'])\n",
      "('u', ['u', 'u'])\n",
      "('v', ['v', 'v', 'v'])\n",
      "('x', ['x', 'x', 'x', 'x', 'x'])\n",
      "('y', ['y'])\n"
     ]
    }
   ],
   "source": [
    "for thing in yo.group():\n",
    "    print(thing)"
   ]
  },
  {
   "cell_type": "markdown",
   "metadata": {},
   "source": [
    "# custom zip function\n",
    "- return generator"
   ]
  },
  {
   "cell_type": "code",
   "execution_count": 251,
   "metadata": {},
   "outputs": [],
   "source": [
    "def zipped(*args):\n",
    "    '''each arg must be an iterable of  equal length'''\n",
    "    for i in range(min([len(arg) for arg in args])):\n",
    "        yield (arg[i] for arg in args)\n",
    "        \n",
    "def zippedTwo(*args):\n",
    "    '''extending functionality to mimic ziplongest'''\n",
    "    maxappends = max([len(arg) for arg in args])\n",
    "    for arg in args:\n",
    "        if len(arg) < maxappends:\n",
    "            diff = maxappends - len(arg)\n",
    "            for i in range(diff):\n",
    "                arg.append(None)\n",
    "    for i in range(maxappends):\n",
    "        yield (arg[i] for arg in args)"
   ]
  },
  {
   "cell_type": "code",
   "execution_count": 252,
   "metadata": {},
   "outputs": [
    {
     "name": "stdout",
     "output_type": "stream",
     "text": [
      "1 1 1\n",
      "1 2 2\n",
      "2 None 3\n",
      "3 None None\n",
      "4 None None\n"
     ]
    }
   ],
   "source": [
    "for i,j,k in zippedTwo([1,1,2,3,4],[1,2],[1,2,3]):\n",
    "    print(i,j,k)"
   ]
  },
  {
   "cell_type": "markdown",
   "metadata": {},
   "source": [
    "# Now experimenting with compress\n",
    "- which seems to be just like filter"
   ]
  },
  {
   "cell_type": "code",
   "execution_count": 256,
   "metadata": {},
   "outputs": [
    {
     "data": {
      "text/plain": [
       "[2, 2, 2]"
      ]
     },
     "execution_count": 256,
     "metadata": {},
     "output_type": "execute_result"
    }
   ],
   "source": [
    "list(filter(lambda x: x==2,[1,2,2,2,3,4,5]))"
   ]
  },
  {
   "cell_type": "code",
   "execution_count": 258,
   "metadata": {},
   "outputs": [
    {
     "data": {
      "text/plain": [
       "[2, 2, 2]"
      ]
     },
     "execution_count": 258,
     "metadata": {},
     "output_type": "execute_result"
    }
   ],
   "source": [
    "list(itertools.compress([1,2,2,2,3,4,5],[False,True,True,True,False,False,False]))"
   ]
  },
  {
   "cell_type": "code",
   "execution_count": 259,
   "metadata": {},
   "outputs": [],
   "source": [
    "def compress_(lst,bools):\n",
    "    for i,j in zipped(lst,bools):\n",
    "        if j == True:\n",
    "            yield(i,j)"
   ]
  },
  {
   "cell_type": "code",
   "execution_count": 262,
   "metadata": {},
   "outputs": [
    {
     "name": "stdout",
     "output_type": "stream",
     "text": [
      "2 True\n",
      "2 True\n",
      "2 True\n"
     ]
    }
   ],
   "source": [
    "for val, truth in compress_([1,2,2,2,3,4,5],[False,True,True,True,False,False,False]):\n",
    "    print(val,truth)"
   ]
  },
  {
   "cell_type": "markdown",
   "metadata": {},
   "source": [
    "## get random elements from list"
   ]
  },
  {
   "cell_type": "code",
   "execution_count": 279,
   "metadata": {},
   "outputs": [],
   "source": [
    "x = [random.randrange(0,500) for _ in range(50)]"
   ]
  },
  {
   "cell_type": "code",
   "execution_count": 280,
   "metadata": {},
   "outputs": [],
   "source": [
    "bools = [True if i%2==0 else False for i in [random.randrange(0,500) for _ in range(50)]] ##indications random position in array"
   ]
  },
  {
   "cell_type": "code",
   "execution_count": 281,
   "metadata": {},
   "outputs": [
    {
     "name": "stdout",
     "output_type": "stream",
     "text": [
      "227\n",
      "215\n",
      "31\n",
      "244\n",
      "82\n",
      "415\n",
      "368\n",
      "71\n",
      "42\n",
      "48\n",
      "283\n",
      "297\n",
      "122\n",
      "95\n",
      "37\n",
      "331\n",
      "263\n",
      "239\n",
      "168\n",
      "353\n",
      "479\n",
      "134\n"
     ]
    }
   ],
   "source": [
    "for val,truth in compress_(x,bools):\n",
    "    print(val)"
   ]
  },
  {
   "cell_type": "markdown",
   "metadata": {},
   "source": [
    "# Starmap\n",
    "- differs from map in that it will take keyword args rather than just one iterble"
   ]
  },
  {
   "cell_type": "code",
   "execution_count": 328,
   "metadata": {},
   "outputs": [],
   "source": [
    "data = [(random.randrange(0,199),random.randrange(0,199)) for i in range(15)]"
   ]
  },
  {
   "cell_type": "code",
   "execution_count": 329,
   "metadata": {},
   "outputs": [],
   "source": [
    "def starmap_(func,data):\n",
    "    for args in data:\n",
    "        yield func(*args)"
   ]
  },
  {
   "cell_type": "code",
   "execution_count": 330,
   "metadata": {},
   "outputs": [
    {
     "name": "stdout",
     "output_type": "stream",
     "text": [
      "203\n",
      "222\n",
      "316\n",
      "73\n",
      "225\n",
      "85\n",
      "204\n",
      "288\n",
      "268\n",
      "214\n",
      "239\n",
      "95\n",
      "274\n",
      "310\n",
      "100\n"
     ]
    }
   ],
   "source": [
    "fun = lambda x,y: x+y\n",
    "for thing in starmap_(fun, data):\n",
    "    print(thing)"
   ]
  },
  {
   "cell_type": "markdown",
   "metadata": {},
   "source": [
    "# Drop While and Take While"
   ]
  },
  {
   "cell_type": "code",
   "execution_count": 345,
   "metadata": {},
   "outputs": [],
   "source": [
    "from itertools import dropwhile"
   ]
  },
  {
   "cell_type": "code",
   "execution_count": 336,
   "metadata": {},
   "outputs": [],
   "source": [
    "vals = list(range(0,20,1))"
   ]
  },
  {
   "cell_type": "code",
   "execution_count": 338,
   "metadata": {},
   "outputs": [],
   "source": [
    "random.shuffle(vals)"
   ]
  },
  {
   "cell_type": "code",
   "execution_count": 341,
   "metadata": {},
   "outputs": [
    {
     "data": {
      "text/plain": [
       "[1, 5, 17, 18, 8, 0, 4, 11, 16, 9, 12, 15, 13, 7, 3, 10, 19, 2, 6, 14]"
      ]
     },
     "execution_count": 341,
     "metadata": {},
     "output_type": "execute_result"
    }
   ],
   "source": [
    "vals"
   ]
  },
  {
   "cell_type": "code",
   "execution_count": 347,
   "metadata": {},
   "outputs": [
    {
     "data": {
      "text/plain": [
       "[6, 4, 1]"
      ]
     },
     "execution_count": 347,
     "metadata": {},
     "output_type": "execute_result"
    }
   ],
   "source": [
    "list(dropwhile(lambda x: x<5, [1,4,6,4,1]))"
   ]
  },
  {
   "cell_type": "code",
   "execution_count": 349,
   "metadata": {},
   "outputs": [
    {
     "data": {
      "text/plain": [
       "[5, 17, 18, 8, 0, 4, 11, 16, 9, 12, 15, 13, 7, 3, 10, 19, 2, 6, 14]"
      ]
     },
     "execution_count": 349,
     "metadata": {},
     "output_type": "execute_result"
    }
   ],
   "source": [
    "list(dropwhile(lambda x: x<5, vals))"
   ]
  },
  {
   "cell_type": "code",
   "execution_count": 442,
   "metadata": {},
   "outputs": [],
   "source": [
    "fakedata = [2,1,1,1,1,1,2,2,1,1,1,2,2,3,3,3,3,4,4,4,5,5,6,6]"
   ]
  },
  {
   "cell_type": "code",
   "execution_count": 443,
   "metadata": {},
   "outputs": [],
   "source": [
    "def subsetlist(fakedata,nums):\n",
    "    '''takes array, returns array once sequence reaches specified number'''\n",
    "    pos = []\n",
    "    out = []\n",
    "    count = 0\n",
    "    for i in range(len(fakedata)-1):\n",
    "        count+=1\n",
    "        if fakedata[i] != fakedata[i+1]:\n",
    "            if count < nums:\n",
    "                pos.append(i)\n",
    "                count = 0\n",
    "                continue\n",
    "            else:\n",
    "                out.append(i)\n",
    "                if pos:\n",
    "                    return fakedata[:pos[-1]+1]+fakedata[out[-1]+1:]\n",
    "                else:\n",
    "                    return fakedata[out[-1]+1:]\n",
    "    return fakedata\n",
    "                \n",
    "def removeAll(fakedata):\n",
    "    while True:\n",
    "        val = len(fakedata)\n",
    "        new = subsetlist(fakedata,3)\n",
    "        if len(new) == val:\n",
    "            break\n",
    "        else:\n",
    "            fakedata = new\n",
    "    return new"
   ]
  },
  {
   "cell_type": "code",
   "execution_count": 444,
   "metadata": {},
   "outputs": [
    {
     "data": {
      "text/plain": [
       "[2, 2, 5, 5, 6, 6]"
      ]
     },
     "execution_count": 444,
     "metadata": {},
     "output_type": "execute_result"
    }
   ],
   "source": [
    "removeAll(fakedata)"
   ]
  },
  {
   "cell_type": "code",
   "execution_count": 445,
   "metadata": {},
   "outputs": [],
   "source": [
    "def takeWhileTrue(func,arr):\n",
    "    for value in arr:\n",
    "        if func(value):\n",
    "            yield value\n",
    "        else:\n",
    "            break"
   ]
  },
  {
   "cell_type": "code",
   "execution_count": 460,
   "metadata": {},
   "outputs": [],
   "source": [
    "def permutations(arr):\n",
    "    for i in range(len(arr)):\n",
    "        print(arr[i:]+arr[:i])\n",
    "    return None"
   ]
  },
  {
   "cell_type": "code",
   "execution_count": 461,
   "metadata": {},
   "outputs": [
    {
     "name": "stdout",
     "output_type": "stream",
     "text": [
      "[1, 2, 3]\n",
      "[2, 3, 1]\n",
      "[3, 1, 2]\n"
     ]
    }
   ],
   "source": [
    "permutations([1,2,3])"
   ]
  },
  {
   "cell_type": "code",
   "execution_count": 463,
   "metadata": {},
   "outputs": [
    {
     "data": {
      "text/plain": [
       "[(1, 2, 3), (1, 3, 2), (2, 1, 3), (2, 3, 1), (3, 1, 2), (3, 2, 1)]"
      ]
     },
     "execution_count": 463,
     "metadata": {},
     "output_type": "execute_result"
    }
   ],
   "source": [
    "list(itertools.permutations([1,2,3]))"
   ]
  },
  {
   "cell_type": "code",
   "execution_count": null,
   "metadata": {},
   "outputs": [],
   "source": []
  },
  {
   "cell_type": "code",
   "execution_count": null,
   "metadata": {},
   "outputs": [],
   "source": []
  },
  {
   "cell_type": "code",
   "execution_count": null,
   "metadata": {},
   "outputs": [],
   "source": []
  }
 ],
 "metadata": {
  "kernelspec": {
   "display_name": "Python 3",
   "language": "python",
   "name": "python3"
  },
  "language_info": {
   "codemirror_mode": {
    "name": "ipython",
    "version": 3
   },
   "file_extension": ".py",
   "mimetype": "text/x-python",
   "name": "python",
   "nbconvert_exporter": "python",
   "pygments_lexer": "ipython3",
   "version": "3.6.4"
  }
 },
 "nbformat": 4,
 "nbformat_minor": 2
}
