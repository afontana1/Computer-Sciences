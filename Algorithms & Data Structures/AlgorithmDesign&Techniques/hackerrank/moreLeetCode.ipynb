{
 "cells": [
  {
   "cell_type": "code",
   "execution_count": 7,
   "metadata": {},
   "outputs": [],
   "source": [
    "from typing import List"
   ]
  },
  {
   "cell_type": "code",
   "execution_count": 320,
   "metadata": {},
   "outputs": [],
   "source": [
    "# Definition for singly-linked list.\n",
    "class ListNode:\n",
    "    def __init__(self, val=0, next=None):\n",
    "        self.val = val\n",
    "        self.next = next\n",
    "        \n",
    "class Solution:\n",
    "    def twoSum(self,nums: List[int], target: int) -> List[int]:\n",
    "        for idx,num in enumerate(nums):\n",
    "            temp = target - num\n",
    "            if temp in nums:\n",
    "                position = nums.index(temp)\n",
    "                if position != idx:\n",
    "                    return [idx,position]\n",
    "                continue\n",
    "        return []\n",
    "\n",
    "    def addTwoNumbers(self, l1: ListNode, l2: ListNode) -> ListNode:\n",
    "        arr1,arr2 = [], []\n",
    "        sum1,sum2 = '',''\n",
    "        while True:\n",
    "            if l1 is not None:\n",
    "                sum1+=str(l1.val)\n",
    "                l1 = l1.next\n",
    "            if l2 is not None:\n",
    "                sum2+=str(l2.val)\n",
    "                l2 = l2.next\n",
    "            if (not l1) and (not l2):\n",
    "                break\n",
    "        temp = [i for i in list(str(int(float(sum1[::-1])) + int(float(sum2[::-1]))))]\n",
    "        if len(temp) == 1:\n",
    "            return ListNode(temp[0])\n",
    "        output = dummy = ListNode(temp[-1])\n",
    "        for value in temp[:len(temp)-1][::-1]:\n",
    "            output.next = ListNode(value)\n",
    "            output = output.next\n",
    "        return dummy\n",
    "\n",
    "    def lengthOfLongestSubstring(self, s: str) -> int:\n",
    "        final = \"\"\n",
    "        for i in range(len(s)):\n",
    "            temp = \"\"\n",
    "            temp+=s[i]\n",
    "            for j in range(i+1,len(s)):\n",
    "                if s[j] not in temp:\n",
    "                    temp+=s[j]\n",
    "                else:\n",
    "                    break\n",
    "            if len(temp) > len(final):\n",
    "                final = temp\n",
    "        return len(final)"
   ]
  },
  {
   "cell_type": "code",
   "execution_count": 321,
   "metadata": {},
   "outputs": [],
   "source": [
    "s = Solution()"
   ]
  },
  {
   "cell_type": "code",
   "execution_count": 322,
   "metadata": {},
   "outputs": [],
   "source": [
    "test = \"pwwkew\""
   ]
  },
  {
   "cell_type": "code",
   "execution_count": 323,
   "metadata": {},
   "outputs": [
    {
     "data": {
      "text/plain": [
       "3"
      ]
     },
     "execution_count": 323,
     "metadata": {},
     "output_type": "execute_result"
    }
   ],
   "source": [
    "s.lengthOfLongestSubstring(test)"
   ]
  },
  {
   "cell_type": "code",
   "execution_count": 354,
   "metadata": {},
   "outputs": [],
   "source": [
    "class Solution_arrays:\n",
    "    def findMedianSortedArrays(self, nums1: List[int], nums2: List[int]) -> float:\n",
    "        merged = self.merge_arrays(nums1,nums2)\n",
    "        length = len(merged)\n",
    "        if length%2==0:\n",
    "            pos1,pos2 = length//2, (length//2) - 1\n",
    "            return (merged[pos1]+merged[pos2])/2\n",
    "        else:\n",
    "            return merged[length//2]\n",
    "\n",
    "    def merge_arrays(self,arr1: List[int] ,arr2: List[int]) -> List:\n",
    "        '''merge contents from arr2 into arr1'''\n",
    "        if not arr1:\n",
    "            return arr2\n",
    "        if not arr2:\n",
    "            return arr1\n",
    "        neg_counter = 0\n",
    "        while arr2:\n",
    "            candidate = arr2.pop(0)\n",
    "            check = list(filter(lambda number: number<=candidate, arr1))\n",
    "            if check:\n",
    "                idx_position = len(check)\n",
    "                arr1.insert(idx_position,candidate)\n",
    "            else:\n",
    "                arr1.insert(neg_counter,candidate)\n",
    "                neg_counter+=1\n",
    "        return arr1"
   ]
  },
  {
   "cell_type": "code",
   "execution_count": 355,
   "metadata": {},
   "outputs": [],
   "source": [
    "nums1 = [3]\n",
    "nums2 = [-2,-1]"
   ]
  },
  {
   "cell_type": "code",
   "execution_count": 356,
   "metadata": {},
   "outputs": [],
   "source": [
    "sol = Solution_arrays()"
   ]
  },
  {
   "cell_type": "code",
   "execution_count": 357,
   "metadata": {},
   "outputs": [
    {
     "name": "stdout",
     "output_type": "stream",
     "text": [
      "[-2, -1, 3]\n"
     ]
    },
    {
     "data": {
      "text/plain": [
       "-1"
      ]
     },
     "execution_count": 357,
     "metadata": {},
     "output_type": "execute_result"
    }
   ],
   "source": [
    "sol.findMedianSortedArrays(nums1,nums2)"
   ]
  },
  {
   "cell_type": "code",
   "execution_count": 200,
   "metadata": {},
   "outputs": [],
   "source": [
    "class Solution:\n",
    "    def longestPalindrome(self,s:str) -> str:\n",
    "        '''does not work on all cases'''\n",
    "        if len(s)<=1:\n",
    "            return s\n",
    "        counter = len(s)\n",
    "        EndIndex = len(s)\n",
    "        start = 0\n",
    "        pal = ''\n",
    "        while True:\n",
    "            if start == counter:\n",
    "                break\n",
    "            check = s[start:counter]\n",
    "            if len(check) == 1:\n",
    "                counter = EndIndex\n",
    "                start+=1\n",
    "                continue\n",
    "            if check == check[::-1]:\n",
    "                if len(check) > len(pal):\n",
    "                    pal = check\n",
    "                    counter-=1\n",
    "                elif len(pal) > len(check):\n",
    "                    counter = EndIndex\n",
    "                    start+=1\n",
    "\n",
    "            if counter == 1:\n",
    "                start+=1\n",
    "                counter = EndIndex\n",
    "            counter -=1\n",
    "        return pal or s[0]\n",
    "    \n",
    "    def longest(self,s:str) -> str:\n",
    "        if not s:\n",
    "            return ''\n",
    "        pal = ''\n",
    "        for i in range(len(s)):\n",
    "            temp = ''\n",
    "            temp+=s[i]\n",
    "            for j in range(i+1,len(s)):\n",
    "                temp+=s[j]\n",
    "                if temp == temp[::-1]:\n",
    "                    if len(temp) > len(pal):\n",
    "                        pal = temp\n",
    "        return pal or s[0]\n",
    "    \n",
    "    def expand_around_center(self,s):\n",
    "        if not s:\n",
    "            return ''\n",
    "        start,end = 0,0\n",
    "        for i in range(len(s)):\n",
    "            len1 = self.expand(s,i,i)\n",
    "            len2 = self.expand(s,i,i+1)\n",
    "            length = max(len1,len2)\n",
    "            if (length > end - start):\n",
    "                start = i - (length - 1)//2\n",
    "                end = i + length//2\n",
    "            \n",
    "        return s[start:end+1]\n",
    "    \n",
    "    def expand(self,s,left,right):\n",
    "        while (left >=0) and (right < len(s)) and (s[left] == s[right]):\n",
    "            left-=1\n",
    "            right+=1\n",
    "        return right - left - 1\n",
    "    \n",
    "    def longestPalindrome(self, s: str) -> str:\n",
    "        m = ''  \n",
    "        for i in range(len(s)):\n",
    "            for j in range(len(s), i, -1):\n",
    "                if len(m) >= j-i:\n",
    "                    break\n",
    "                elif s[i:j] == s[i:j][::-1]:\n",
    "                    m = s[i:j]\n",
    "                    break\n",
    "        return m"
   ]
  },
  {
   "cell_type": "code",
   "execution_count": 358,
   "metadata": {},
   "outputs": [],
   "source": [
    "class Solution:\n",
    "    def convert(self, s: str, numRows: int) -> str:\n",
    "        \n",
    "        #base cases\n",
    "        if len(s) == 1 or numRows == 1 or not s:\n",
    "            return s\n",
    "        \n",
    "        n = numRows- 2 #number of extra columns needed\n",
    "        i = 0 #ith row\n",
    "        k = 0 #kth column\n",
    "        coordinates = []\n",
    "        while i < len(s): #go until there is no more string\n",
    "            for j in range(numRows):\n",
    "                if i == len(s):\n",
    "                    break\n",
    "                letter = s[i]\n",
    "                coordinate = (j,k)\n",
    "                coordinates.append((letter,coordinate))\n",
    "                i+=1\n",
    "            \n",
    "            k+=1\n",
    "            for l in range(1,numRows-1)[::-1]:\n",
    "                if i == len(s):\n",
    "                    break\n",
    "                letter = s[i]\n",
    "                coordinate = (l,k)\n",
    "                coordinates.append((letter,coordinate))\n",
    "                i+=1\n",
    "                k+=1\n",
    "        \n",
    "        buckets = ['' for _ in range(numRows)]\n",
    "        for pair in coordinates:\n",
    "            location = pair[1][0]\n",
    "            letter = pair[0]\n",
    "            buckets[location]+=letter\n",
    "            \n",
    "        return ''.join(buckets)"
   ]
  },
  {
   "cell_type": "code",
   "execution_count": 359,
   "metadata": {},
   "outputs": [],
   "source": [
    "sol = Solution()"
   ]
  },
  {
   "cell_type": "code",
   "execution_count": 391,
   "metadata": {},
   "outputs": [],
   "source": [
    "def reverse_int(number):\n",
    "    if number < 0:\n",
    "        number = abs(number)\n",
    "        value = ''.join([str(x) for x in list(map(int,str(number)))[::-1] if x!=\"0\"])\n",
    "        return -1*int(value)\n",
    "    else:\n",
    "        return int(''.join([str(x) for x in list(map(int,str(number)))[::-1] if x!=\"0\"]))"
   ]
  },
  {
   "cell_type": "code",
   "execution_count": 436,
   "metadata": {},
   "outputs": [],
   "source": [
    "class regex:\n",
    "    def __init__(self):\n",
    "        self.specialChars = [\".\",\"*\",\".*\"]\n",
    "        self.single = self.specialChars[0]      #matches any single character\n",
    "        self.zeroOrMore = self.specialChars[1]  #matches zero or more of the preceding character\n",
    "        self.combinedPattern = self.specialChars[2]\n",
    "    \n",
    "    def isMatch(self,s:str,p:str) -> bool:\n",
    "        if not p or not s:\n",
    "            return \n",
    "        if not any(x in self.specialChars for x in p):\n",
    "            if s == p:\n",
    "                return True\n",
    "            else:\n",
    "                return False\n",
    "        if self._anyChar(s,p):\n",
    "            return True\n",
    "        \n",
    "        positions = self.process_pattern(p)\n",
    "        return positions\n",
    "    \n",
    "    def _anyChar(self,s:str,p:str) -> str:\n",
    "        if (p == self.combinedPattern) or (self.combinedPattern in p) or (p == self.single):\n",
    "            return True\n",
    "    \n",
    "    def process_pattern(self,p:str) -> str:\n",
    "        '''return positions of the special chars'''\n",
    "        return [i for i in range(len(p)) if p[i] in self.specialChars]\n",
    "    \n",
    "    def process_string(self,s:str,positions:list) -> list:\n",
    "        pass"
   ]
  },
  {
   "cell_type": "code",
   "execution_count": 437,
   "metadata": {},
   "outputs": [],
   "source": [
    "reg = regex()"
   ]
  },
  {
   "cell_type": "code",
   "execution_count": 434,
   "metadata": {},
   "outputs": [
    {
     "data": {
      "text/plain": [
       "[3, 6, 8, 9]"
      ]
     },
     "execution_count": 434,
     "metadata": {},
     "output_type": "execute_result"
    }
   ],
   "source": [
    "reg.isMatch(\"mississippi\",\"mis*is*p*.\")"
   ]
  },
  {
   "cell_type": "code",
   "execution_count": null,
   "metadata": {},
   "outputs": [],
   "source": []
  }
 ],
 "metadata": {
  "kernelspec": {
   "display_name": "Python 3",
   "language": "python",
   "name": "python3"
  },
  "language_info": {
   "codemirror_mode": {
    "name": "ipython",
    "version": 3
   },
   "file_extension": ".py",
   "mimetype": "text/x-python",
   "name": "python",
   "nbconvert_exporter": "python",
   "pygments_lexer": "ipython3",
   "version": "3.6.4"
  }
 },
 "nbformat": 4,
 "nbformat_minor": 2
}
