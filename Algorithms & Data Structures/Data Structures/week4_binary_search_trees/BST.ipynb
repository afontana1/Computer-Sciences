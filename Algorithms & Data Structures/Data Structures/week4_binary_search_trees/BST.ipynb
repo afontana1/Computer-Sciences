{
 "cells": [
  {
   "cell_type": "code",
   "execution_count": 193,
   "metadata": {},
   "outputs": [],
   "source": [
    "class Node:\n",
    "    def __init__(self,head = None):\n",
    "        self.head = head\n",
    "        self.left = None\n",
    "        self.right = None\n",
    "\n",
    "class BST:\n",
    "    def __init__(self):\n",
    "        self.root = None\n",
    "    \n",
    "    def insertNode(self,val):\n",
    "        if self.root == None:\n",
    "            self.root = Node(val)\n",
    "        else:\n",
    "            self._insert(self.root,val)\n",
    "    \n",
    "    def _insert(self,currentnode,value):\n",
    "        if value <= currentnode.head:\n",
    "            if currentnode.left:\n",
    "                self._insert(currentnode.left,value)\n",
    "            else:\n",
    "                currentnode.left = Node(value)\n",
    "        elif value > currentnode.head:\n",
    "            if currentnode.right:\n",
    "                self._insert(currentnode.right,value)\n",
    "            else:\n",
    "                currentnode.right = Node(value)\n",
    "    \n",
    "    def printChildren(self):\n",
    "        return self.getChildren(self.root)\n",
    "    \n",
    "    def getChildren(self,currnode,nodes = []):\n",
    "        if currnode:\n",
    "            current = currnode\n",
    "            nodes.append(current.head)\n",
    "            self.getChildren(current.left)\n",
    "            self.getChildren(current.right)\n",
    "        return sorted(nodes)\n",
    "                    \n",
    "        "
   ]
  },
  {
   "cell_type": "code",
   "execution_count": 194,
   "metadata": {},
   "outputs": [],
   "source": [
    "import random\n",
    "bt = BST()\n",
    "for num in [random.randint(0,10) for i in range(10)]:\n",
    "    bt.insertNode(num)"
   ]
  },
  {
   "cell_type": "code",
   "execution_count": 195,
   "metadata": {},
   "outputs": [
    {
     "data": {
      "text/plain": [
       "[2, 3, 4, 4, 5, 6, 7, 7, 8, 9]"
      ]
     },
     "execution_count": 195,
     "metadata": {},
     "output_type": "execute_result"
    }
   ],
   "source": [
    "bt.printChildren()"
   ]
  },
  {
   "cell_type": "code",
   "execution_count": null,
   "metadata": {},
   "outputs": [],
   "source": []
  }
 ],
 "metadata": {
  "kernelspec": {
   "display_name": "Python 3",
   "language": "python",
   "name": "python3"
  },
  "language_info": {
   "codemirror_mode": {
    "name": "ipython",
    "version": 3
   },
   "file_extension": ".py",
   "mimetype": "text/x-python",
   "name": "python",
   "nbconvert_exporter": "python",
   "pygments_lexer": "ipython3",
   "version": "3.6.4"
  }
 },
 "nbformat": 4,
 "nbformat_minor": 2
}
