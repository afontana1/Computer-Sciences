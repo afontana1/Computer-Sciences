{
 "cells": [
  {
   "cell_type": "code",
   "execution_count": 44,
   "id": "99b88ac3-59ba-4798-a2b4-8aa10d00bb0d",
   "metadata": {},
   "outputs": [],
   "source": [
    "import pandas as pd\n",
    "import wikipedia\n",
    "from bs4 import BeautifulSoup as soup\n",
    "BASE_URL = \"https://en.wikipedia.org/\""
   ]
  },
  {
   "cell_type": "code",
   "execution_count": 8,
   "id": "acb33687-7b27-4290-9848-1ded1e237921",
   "metadata": {},
   "outputs": [
    {
     "name": "stdout",
     "output_type": "stream",
     "text": [
      "['Karl Marx', 'Richard Marx', 'Groucho Marx', 'Marx Brothers', 'Harpo Marx', 'Chico Marx', 'Gummo Marx', 'Eleanor Marx', 'Sam Marx', 'Melinda Marx']\n"
     ]
    }
   ],
   "source": [
    "print(wikipedia.search(\"Marx\"))"
   ]
  },
  {
   "cell_type": "code",
   "execution_count": 15,
   "id": "19676738-ab8e-4bba-af1b-1fcc0d0b71f2",
   "metadata": {},
   "outputs": [],
   "source": [
    "marx = wikipedia.page(\"KarlMarx\")"
   ]
  },
  {
   "cell_type": "code",
   "execution_count": 19,
   "id": "ac7a2c47-af06-44ac-afb9-8673f4d2bef7",
   "metadata": {},
   "outputs": [],
   "source": [
    "full_page = marx.html()"
   ]
  },
  {
   "cell_type": "code",
   "execution_count": 30,
   "id": "4acf0a46-eb27-4479-9e15-16d5c0d43a07",
   "metadata": {},
   "outputs": [],
   "source": [
    "philosopher = soup(full_page,\"html.parser\")"
   ]
  },
  {
   "cell_type": "code",
   "execution_count": 39,
   "id": "7fbc2bc0-1e2c-4e85-bb68-f579417bf537",
   "metadata": {},
   "outputs": [],
   "source": [
    "list_of_influences = philosopher.find_all(\"ul\",class_=\"mw-collapsible-content\")"
   ]
  },
  {
   "cell_type": "code",
   "execution_count": 40,
   "id": "0c16f885-be32-41d2-969c-5064df52508f",
   "metadata": {},
   "outputs": [
    {
     "data": {
      "text/plain": [
       "2"
      ]
     },
     "execution_count": 40,
     "metadata": {},
     "output_type": "execute_result"
    }
   ],
   "source": [
    "len(list_of_influences)"
   ]
  },
  {
   "cell_type": "code",
   "execution_count": 73,
   "id": "e235d92f-92b0-4108-9581-7898a979e24f",
   "metadata": {},
   "outputs": [
    {
     "data": {
      "text/plain": [
       "<ul class=\"mw-collapsible-content\" style=\"font-size: 105%; margin-top: 0; margin-bottom: 0; line-height: inherit; text-align: left; list-style: none none; margin-left: 0;\"><li style=\"line-height: inherit; margin: 0\"><div class=\"center\" style=\"width:auto; margin-left:auto; margin-right:auto;\"><a class=\"mw-redirect\" href=\"/wiki/List_of_Marxists\" title=\"List of Marxists\">List of Marxists</a></div></li></ul>"
      ]
     },
     "execution_count": 73,
     "metadata": {},
     "output_type": "execute_result"
    }
   ],
   "source": [
    "list_of_influences[-1]"
   ]
  },
  {
   "cell_type": "code",
   "execution_count": 56,
   "id": "faa14766-7372-4fcd-b3ec-f52afef9fa82",
   "metadata": {},
   "outputs": [
    {
     "name": "stdout",
     "output_type": "stream",
     "text": [
      "/wiki/Georg_Wilhelm_Friedrich_Hegel - Georg Wilhelm Friedrich Hegel\n",
      "/wiki/Ludwig_Feuerbach - Ludwig Feuerbach\n",
      "/wiki/Charles_Darwin - Charles Darwin\n",
      "/wiki/Charles_Babbage - Charles Babbage\n",
      "/wiki/Aristotle - Aristotle\n",
      "/wiki/Epicurus - Epicurus\n",
      "/wiki/Jean-Jacques_Rousseau - Jean-Jacques Rousseau\n",
      "/wiki/Baruch_Spinoza - Baruch Spinoza\n",
      "/wiki/Jean_Charles_L%C3%A9onard_de_Sismondi - Jean Charles Léonard de Sismondi\n",
      "/wiki/Friedrich_Wilhelm_Schulz - Friedrich Wilhelm Schulz\n",
      "/wiki/David_Ricardo - David Ricardo\n",
      "/wiki/Adam_Smith - Adam Smith\n",
      "/wiki/Adam_Ferguson - Adam Ferguson\n",
      "/wiki/Friedrich_Engels - Friedrich Engels\n",
      "/wiki/Pierre-Joseph_Proudhon - Pierre-Joseph Proudhon\n",
      "/wiki/Constantin_Pecqueur - Constantin Pecqueur\n",
      "/wiki/Henri_de_Saint-Simon - Henri de Saint-Simon\n",
      "/wiki/Robert_Owen - Robert Owen\n",
      "/wiki/William_Thompson_(philosopher) - William Thompson (philosopher)\n",
      "/wiki/Charles_Fourier - Charles Fourier\n",
      "/wiki/Baron_d%27Holbach - Baron d'Holbach\n",
      "/wiki/Justus_von_Liebig - Justus von Liebig\n",
      "/wiki/Ludwig_von_Westphalen - Ludwig von Westphalen\n",
      "/wiki/Max_Stirner - Max Stirner\n",
      "/wiki/Fran%C3%A7ois-No%C3%ABl_Babeuf - François-Noël Babeuf\n",
      "/wiki/Voltaire - Voltaire\n",
      "/wiki/Giambattista_Vico - Giambattista Vico\n",
      "/wiki/Maximilien_Robespierre - Maximilien Robespierre\n",
      "/wiki/William_Shakespeare - William Shakespeare\n",
      "/wiki/Johann_Wolfgang_von_Goethe - Johann Wolfgang von Goethe\n",
      "/wiki/Claude_Adrien_Helv%C3%A9tius - Claude Adrien Helvétius\n",
      "/wiki/Fran%C3%A7ois_Guizot - François Guizot\n",
      "/wiki/Moses_Hess - Moses Hess\n",
      "/wiki/Victor_Considerant - Victor Considerant\n"
     ]
    }
   ],
   "source": [
    "for a in list_of_influences[0].find_all(\"a\"):\n",
    "    if all(x in a.__dict__[\"attrs\"].keys() for x in [\"href\",\"title\"]):\n",
    "        print(a[\"href\"],\"-\",a[\"title\"])"
   ]
  },
  {
   "cell_type": "code",
   "execution_count": 60,
   "id": "6e6cee9f-a6e1-4473-a618-9a8e807d2d4d",
   "metadata": {},
   "outputs": [
    {
     "data": {
      "text/plain": [
       "['Georg Wilhelm Friedrich Hegel',\n",
       " 'Georg Wilhelm Friedrich Hegel bibliography',\n",
       " 'Friedrich Wilhelm Joseph Schelling',\n",
       " 'Sublime (philosophy)',\n",
       " 'Humboldt University of Berlin',\n",
       " 'Philosophy of history',\n",
       " 'Influences on Karl Marx',\n",
       " 'Introduction to the Reading of Hegel',\n",
       " 'The Phenomenology of Spirit',\n",
       " 'German idealism']"
      ]
     },
     "execution_count": 60,
     "metadata": {},
     "output_type": "execute_result"
    }
   ],
   "source": [
    "wikipedia.search(\"Georg Wilhelm Friedrich Hegel\")"
   ]
  },
  {
   "cell_type": "code",
   "execution_count": 62,
   "id": "3e2f3e38-c979-46f8-8ea9-4a7da0aa37d7",
   "metadata": {},
   "outputs": [],
   "source": [
    "hegel = soup(wikipedia.page(\"Georg Wilhelm Friedrich Hegel\").html(),\"html.parser\")"
   ]
  },
  {
   "cell_type": "code",
   "execution_count": 64,
   "id": "31b81a2c-2be9-411a-a751-0a77c7e587c2",
   "metadata": {},
   "outputs": [],
   "source": [
    "stuff = hegel.find_all(\"ul\",class_=\"mw-collapsible-content\")"
   ]
  },
  {
   "cell_type": "code",
   "execution_count": 65,
   "id": "92922656-a36a-488b-ad88-6fd96b066b66",
   "metadata": {},
   "outputs": [
    {
     "data": {
      "text/plain": [
       "3"
      ]
     },
     "execution_count": 65,
     "metadata": {},
     "output_type": "execute_result"
    }
   ],
   "source": [
    "len(stuff)"
   ]
  },
  {
   "cell_type": "code",
   "execution_count": 70,
   "id": "80bd2b6f-e005-4d9d-9605-1f269bb84fed",
   "metadata": {},
   "outputs": [
    {
     "data": {
      "text/plain": [
       "<div>Influenced</div>"
      ]
     },
     "execution_count": 70,
     "metadata": {},
     "output_type": "execute_result"
    }
   ],
   "source": [
    "stuff[2].find_previous()"
   ]
  },
  {
   "cell_type": "code",
   "execution_count": 72,
   "id": "1bd5d5c2-5d11-46b9-9b08-7de1431e997f",
   "metadata": {},
   "outputs": [
    {
     "data": {
      "text/plain": [
       "<WikipediaPage 'Giambattista Vico'>"
      ]
     },
     "execution_count": 72,
     "metadata": {},
     "output_type": "execute_result"
    }
   ],
   "source": [
    "wikipedia.page(\"Giambattista Vico\")"
   ]
  },
  {
   "cell_type": "markdown",
   "id": "857061a5-6f91-4a63-b6ce-3fdc1402575d",
   "metadata": {},
   "source": [
    "# Plan\n",
    "\n",
    "- create a class object representing a philosopher. some of the attributes could be the name, people who influenced them, their influences, notable ideas if they exist.\n",
    "\n",
    "- create a class that inherits from the wikipedia module. This will be used for all of the search functionality and error checking. \n",
    "\n",
    "- create a class that specifically handles the html parsing\n",
    "\n",
    "questions:\n",
    "\n",
    "- when to stop iterating over the possible connections of influence"
   ]
  },
  {
   "cell_type": "code",
   "execution_count": null,
   "id": "9abea738-c0c3-4e60-bf54-a9348a25e432",
   "metadata": {},
   "outputs": [],
   "source": []
  }
 ],
 "metadata": {
  "kernelspec": {
   "display_name": "Python 3",
   "language": "python",
   "name": "python3"
  },
  "language_info": {
   "codemirror_mode": {
    "name": "ipython",
    "version": 3
   },
   "file_extension": ".py",
   "mimetype": "text/x-python",
   "name": "python",
   "nbconvert_exporter": "python",
   "pygments_lexer": "ipython3",
   "version": "3.9.4"
  }
 },
 "nbformat": 4,
 "nbformat_minor": 5
}
